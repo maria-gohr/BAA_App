{
 "cells": [
  {
   "cell_type": "code",
   "execution_count": 1,
   "id": "88307b39",
   "metadata": {},
   "outputs": [],
   "source": [
    "import numpy as np\n",
    "import pandas as pd\n",
    "\n",
    "df_growth_rates = pd.read_csv(\"C:/Users/maria/PycharmProjects/BAA_App/src/data/population-growth-rates.csv\")\n",
    "\n",
    "df = pd.read_csv(\"C:/Users/maria/PycharmProjects/BAA_App/src/data/UN-population-projection-medium-variant.csv\")\n"
   ]
  },
  {
   "cell_type": "code",
   "execution_count": 2,
   "id": "59fec13b",
   "metadata": {},
   "outputs": [],
   "source": [
    "df = df.drop(columns=\"Population (future projections)\", axis = 1)"
   ]
  },
  {
   "cell_type": "code",
   "execution_count": 3,
   "id": "a02a7a76",
   "metadata": {},
   "outputs": [],
   "source": [
    "df_germany = df[df[\"Entity\"] == \"Germany\"]\n",
    "\n",
    "\n"
   ]
  },
  {
   "cell_type": "code",
   "execution_count": 4,
   "id": "339c632b",
   "metadata": {},
   "outputs": [
    {
     "data": {
      "text/plain": [
       "pandas.core.frame.DataFrame"
      ]
     },
     "execution_count": 4,
     "metadata": {},
     "output_type": "execute_result"
    }
   ],
   "source": [
    "df_germany.head(10)\n",
    "type(df_germany)"
   ]
  },
  {
   "cell_type": "code",
   "execution_count": 5,
   "id": "6fbca060",
   "metadata": {},
   "outputs": [],
   "source": [
    "df_germany = df_germany.dropna(axis = 0,how=\"any\")"
   ]
  },
  {
   "cell_type": "code",
   "execution_count": 6,
   "id": "da7e6936",
   "metadata": {},
   "outputs": [
    {
     "data": {
      "text/html": [
       "<div>\n",
       "<style scoped>\n",
       "    .dataframe tbody tr th:only-of-type {\n",
       "        vertical-align: middle;\n",
       "    }\n",
       "\n",
       "    .dataframe tbody tr th {\n",
       "        vertical-align: top;\n",
       "    }\n",
       "\n",
       "    .dataframe thead th {\n",
       "        text-align: right;\n",
       "    }\n",
       "</style>\n",
       "<table border=\"1\" class=\"dataframe\">\n",
       "  <thead>\n",
       "    <tr style=\"text-align: right;\">\n",
       "      <th></th>\n",
       "      <th>Entity</th>\n",
       "      <th>Code</th>\n",
       "      <th>Year</th>\n",
       "      <th>Population (historical estimates)</th>\n",
       "    </tr>\n",
       "  </thead>\n",
       "  <tbody>\n",
       "    <tr>\n",
       "      <th>12231</th>\n",
       "      <td>Germany</td>\n",
       "      <td>DEU</td>\n",
       "      <td>1950</td>\n",
       "      <td>69966252.0</td>\n",
       "    </tr>\n",
       "    <tr>\n",
       "      <th>12232</th>\n",
       "      <td>Germany</td>\n",
       "      <td>DEU</td>\n",
       "      <td>1951</td>\n",
       "      <td>70300011.0</td>\n",
       "    </tr>\n",
       "    <tr>\n",
       "      <th>12233</th>\n",
       "      <td>Germany</td>\n",
       "      <td>DEU</td>\n",
       "      <td>1952</td>\n",
       "      <td>70620275.0</td>\n",
       "    </tr>\n",
       "    <tr>\n",
       "      <th>12234</th>\n",
       "      <td>Germany</td>\n",
       "      <td>DEU</td>\n",
       "      <td>1953</td>\n",
       "      <td>70929839.0</td>\n",
       "    </tr>\n",
       "    <tr>\n",
       "      <th>12235</th>\n",
       "      <td>Germany</td>\n",
       "      <td>DEU</td>\n",
       "      <td>1954</td>\n",
       "      <td>71233393.0</td>\n",
       "    </tr>\n",
       "    <tr>\n",
       "      <th>...</th>\n",
       "      <td>...</td>\n",
       "      <td>...</td>\n",
       "      <td>...</td>\n",
       "      <td>...</td>\n",
       "    </tr>\n",
       "    <tr>\n",
       "      <th>12298</th>\n",
       "      <td>Germany</td>\n",
       "      <td>DEU</td>\n",
       "      <td>2017</td>\n",
       "      <td>82658409.0</td>\n",
       "    </tr>\n",
       "    <tr>\n",
       "      <th>12299</th>\n",
       "      <td>Germany</td>\n",
       "      <td>DEU</td>\n",
       "      <td>2018</td>\n",
       "      <td>83124413.0</td>\n",
       "    </tr>\n",
       "    <tr>\n",
       "      <th>12300</th>\n",
       "      <td>Germany</td>\n",
       "      <td>DEU</td>\n",
       "      <td>2019</td>\n",
       "      <td>83517046.0</td>\n",
       "    </tr>\n",
       "    <tr>\n",
       "      <th>12301</th>\n",
       "      <td>Germany</td>\n",
       "      <td>DEU</td>\n",
       "      <td>2020</td>\n",
       "      <td>83783945.0</td>\n",
       "    </tr>\n",
       "    <tr>\n",
       "      <th>12302</th>\n",
       "      <td>Germany</td>\n",
       "      <td>DEU</td>\n",
       "      <td>2021</td>\n",
       "      <td>83900471.0</td>\n",
       "    </tr>\n",
       "  </tbody>\n",
       "</table>\n",
       "<p>72 rows × 4 columns</p>\n",
       "</div>"
      ],
      "text/plain": [
       "        Entity Code  Year  Population (historical estimates)\n",
       "12231  Germany  DEU  1950                         69966252.0\n",
       "12232  Germany  DEU  1951                         70300011.0\n",
       "12233  Germany  DEU  1952                         70620275.0\n",
       "12234  Germany  DEU  1953                         70929839.0\n",
       "12235  Germany  DEU  1954                         71233393.0\n",
       "...        ...  ...   ...                                ...\n",
       "12298  Germany  DEU  2017                         82658409.0\n",
       "12299  Germany  DEU  2018                         83124413.0\n",
       "12300  Germany  DEU  2019                         83517046.0\n",
       "12301  Germany  DEU  2020                         83783945.0\n",
       "12302  Germany  DEU  2021                         83900471.0\n",
       "\n",
       "[72 rows x 4 columns]"
      ]
     },
     "execution_count": 6,
     "metadata": {},
     "output_type": "execute_result"
    }
   ],
   "source": [
    "df_germany.head(72)"
   ]
  },
  {
   "cell_type": "code",
   "execution_count": 7,
   "id": "66dd9ef3",
   "metadata": {},
   "outputs": [
    {
     "data": {
      "text/plain": [
       "(72, 4)"
      ]
     },
     "execution_count": 7,
     "metadata": {},
     "output_type": "execute_result"
    }
   ],
   "source": [
    "df_germany.shape"
   ]
  },
  {
   "cell_type": "code",
   "execution_count": 8,
   "id": "4fc615ce",
   "metadata": {},
   "outputs": [],
   "source": [
    "years = df_germany[\"Year\"].to_numpy(dtype = int)\n",
    "population_historical = df_germany[\"Population (historical estimates)\"].to_numpy(dtype = int)"
   ]
  },
  {
   "cell_type": "code",
   "execution_count": 9,
   "id": "a0fadba6",
   "metadata": {},
   "outputs": [],
   "source": [
    "from scipy.stats import linregress\n",
    "\n",
    "regression_result = linregress(years, population_historical)\n",
    "scipy_slope = regression_result.slope\n",
    "scipy_intercept = regression_result.intercept"
   ]
  },
  {
   "cell_type": "code",
   "execution_count": 10,
   "id": "b9f8288a",
   "metadata": {},
   "outputs": [],
   "source": [
    "def scipy_model(desired_year):\n",
    "    model_result = scipy_slope * desired_year + scipy_intercept\n",
    "    return model_result\n",
    "\n",
    "\n",
    "def scipy_model_basic(basic_year):\n",
    "    model_result = scipy_slope * basic_year + scipy_intercept\n",
    "    return model_result\n",
    "\n",
    "   "
   ]
  },
  {
   "cell_type": "code",
   "execution_count": 11,
   "id": "9ca72d1c",
   "metadata": {},
   "outputs": [
    {
     "data": {
      "text/plain": [
       "96573344.70100436"
      ]
     },
     "execution_count": 11,
     "metadata": {},
     "output_type": "execute_result"
    }
   ],
   "source": [
    "scipy_model(2100)"
   ]
  },
  {
   "cell_type": "code",
   "execution_count": 12,
   "id": "9378ce04",
   "metadata": {},
   "outputs": [],
   "source": [
    "def actual_population(year):\n",
    "    actual_population = df_germany[df.Year.eq(year)]\n",
    "    actual_population = actual_population.iloc[0][\"Population (historical estimates)\"]\n",
    "    return actual_population"
   ]
  },
  {
   "cell_type": "code",
   "execution_count": 13,
   "id": "8c5074d5",
   "metadata": {},
   "outputs": [
    {
     "name": "stderr",
     "output_type": "stream",
     "text": [
      "<ipython-input-12-fcbf0323549b>:2: UserWarning: Boolean Series key will be reindexed to match DataFrame index.\n",
      "  actual_population = df_germany[df.Year.eq(year)]\n"
     ]
    },
    {
     "data": {
      "text/plain": [
       "70620275.0"
      ]
     },
     "execution_count": 13,
     "metadata": {},
     "output_type": "execute_result"
    }
   ],
   "source": [
    "actual_population(1952)\n"
   ]
  },
  {
   "cell_type": "code",
   "execution_count": 14,
   "id": "8e0d01d6",
   "metadata": {},
   "outputs": [
    {
     "name": "stderr",
     "output_type": "stream",
     "text": [
      "2022-04-28 22:14:19.528 \n",
      "  \u001b[33m\u001b[1mWarning:\u001b[0m to view this Streamlit app on a browser, run it with the following\n",
      "  command:\n",
      "\n",
      "    streamlit run C:\\Users\\maria\\anaconda3\\lib\\site-packages\\ipykernel_launcher.py [ARGUMENTS]\n"
     ]
    }
   ],
   "source": [
    "import streamlit as st\n",
    "\n",
    "desired_year = st.number_input('Year', value=2022)\n",
    "\n",
    "prediction = scipy_model(desired_year)\n",
    "prediction_rounded = round(prediction, 2)"
   ]
  }
 ],
 "metadata": {
  "kernelspec": {
   "display_name": "Python 3",
   "language": "python",
   "name": "python3"
  },
  "language_info": {
   "codemirror_mode": {
    "name": "ipython",
    "version": 3
   },
   "file_extension": ".py",
   "mimetype": "text/x-python",
   "name": "python",
   "nbconvert_exporter": "python",
   "pygments_lexer": "ipython3",
   "version": "3.8.8"
  }
 },
 "nbformat": 4,
 "nbformat_minor": 5
}
